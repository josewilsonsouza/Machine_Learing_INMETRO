{
  "cells": [
    {
      "cell_type": "markdown",
      "metadata": {
        "id": "s-kZFL4Ks9LC"
      },
      "source": [
        "# Pré-Processamento dos Dados e Aplicação dos Algoritmos ML"
      ]
    },
    {
      "cell_type": "code",
      "source": [
        "!pip install hampel"
      ],
      "metadata": {
        "id": "hsK69HI4FNk4",
        "colab": {
          "base_uri": "https://localhost:8080/"
        },
        "outputId": "98337ed2-bec0-4baf-a4d0-9d4a2f0a2bba"
      },
      "execution_count": 2,
      "outputs": [
        {
          "output_type": "stream",
          "name": "stdout",
          "text": [
            "Collecting hampel\n",
            "  Downloading hampel-1.0.2.tar.gz (78 kB)\n",
            "\u001b[2K     \u001b[90m━━━━━━━━━━━━━━━━━━━━━━━━━━━━━━━━━━━━━━━━\u001b[0m \u001b[32m78.7/78.7 kB\u001b[0m \u001b[31m2.3 MB/s\u001b[0m eta \u001b[36m0:00:00\u001b[0m\n",
            "\u001b[?25h  Installing build dependencies ... \u001b[?25l\u001b[?25hdone\n",
            "  Getting requirements to build wheel ... \u001b[?25l\u001b[?25hdone\n",
            "  Preparing metadata (pyproject.toml) ... \u001b[?25l\u001b[?25hdone\n",
            "Requirement already satisfied: numpy>=1.17.3 in /usr/local/lib/python3.10/dist-packages (from hampel) (1.26.4)\n",
            "Requirement already satisfied: pandas in /usr/local/lib/python3.10/dist-packages (from hampel) (2.1.4)\n",
            "Requirement already satisfied: python-dateutil>=2.8.2 in /usr/local/lib/python3.10/dist-packages (from pandas->hampel) (2.8.2)\n",
            "Requirement already satisfied: pytz>=2020.1 in /usr/local/lib/python3.10/dist-packages (from pandas->hampel) (2024.1)\n",
            "Requirement already satisfied: tzdata>=2022.1 in /usr/local/lib/python3.10/dist-packages (from pandas->hampel) (2024.1)\n",
            "Requirement already satisfied: six>=1.5 in /usr/local/lib/python3.10/dist-packages (from python-dateutil>=2.8.2->pandas->hampel) (1.16.0)\n",
            "Building wheels for collected packages: hampel\n",
            "  Building wheel for hampel (pyproject.toml) ... \u001b[?25l\u001b[?25hdone\n",
            "  Created wheel for hampel: filename=hampel-1.0.2-cp310-cp310-linux_x86_64.whl size=208997 sha256=268c4cb9ed52c0b6e64bddaad9d3975f51db0e73a6a72e2ef78d62b8f8ba26b7\n",
            "  Stored in directory: /root/.cache/pip/wheels/0e/c3/3c/8a9f55c3de0b09faf919393d4c6f09b11b7421dcaa7243b820\n",
            "Successfully built hampel\n",
            "Installing collected packages: hampel\n",
            "Successfully installed hampel-1.0.2\n"
          ]
        }
      ]
    },
    {
      "cell_type": "code",
      "execution_count": null,
      "metadata": {
        "id": "37HyowQhkFV4"
      },
      "outputs": [],
      "source": [
        "from scipy.fft import fftfreq, rfftfreq\n",
        "import matplotlib.pyplot as plt\n",
        "from scipy.fft import fft, rfft\n",
        "from datetime import datetime\n",
        "from hampel import hampel\n",
        "import matplotlib.colors\n",
        "import requests as rq\n",
        "import seaborn as sns\n",
        "import pandas as pd\n",
        "import numpy as np\n",
        "import json\n",
        "import os"
      ]
    },
    {
      "cell_type": "markdown",
      "source": [
        "---"
      ],
      "metadata": {
        "id": "LLo7UBkq992U"
      }
    },
    {
      "cell_type": "markdown",
      "source": [
        "Importando o código de carregamento dos dados e adequação do `timestamp`"
      ],
      "metadata": {
        "id": "GgzOOFcu1rxY"
      }
    },
    {
      "cell_type": "code",
      "source": [
        "url = 'https://raw.githubusercontent.com/josewilsonsouza/Machine_Learing_INMETRO/main/TimeStamp/TimeStamp.py'\n",
        "res = rq.get(url)\n",
        "\n",
        "with open('TimeStamp.py', 'wb') as f:\n",
        "    f.write(res.content)"
      ],
      "metadata": {
        "id": "nJuQO_GV3VMr"
      },
      "execution_count": null,
      "outputs": []
    },
    {
      "cell_type": "code",
      "source": [
        "from TimeStamp import TimeStep as ts # Importando o codigo do TimeStamp"
      ],
      "metadata": {
        "id": "NzphkD48u3ex"
      },
      "execution_count": null,
      "outputs": []
    },
    {
      "cell_type": "code",
      "source": [
        "df1 = ts('1').time_step()\n",
        "df2 = ts('2').time_step()\n",
        "df3 = ts('3').time_step()"
      ],
      "metadata": {
        "id": "9QQYHkxgwFv3"
      },
      "execution_count": null,
      "outputs": []
    },
    {
      "cell_type": "markdown",
      "metadata": {
        "id": "EOyQIWnE2vco"
      },
      "source": [
        "Distribuição dos `Dados`"
      ]
    },
    {
      "cell_type": "code",
      "execution_count": null,
      "metadata": {
        "id": "CiSx_iTS2vco"
      },
      "outputs": [],
      "source": [
        "def distribution(num_sample = '1'):\n",
        "  '''\n",
        "  Distribuição dos dados.\n",
        "  '''\n",
        "  df = ts(num_sample).time_step()\n",
        "  labels = ts(num_sample).labels\n",
        "\n",
        "  fig, (ax1, ax2, ax3) = plt.subplots(1, 3, figsize=(16, 4))\n",
        "\n",
        "  for ax,lab in zip([ax1, ax2, ax3], labels):\n",
        "    [ax.hist(df.loc[df['label']==lab][var], bins=50, label=var) for var in ['y','x','z']]; ax.legend(); ax.set_title(lab); # distribuição dos dados\n",
        "    fig.suptitle('Distribuição - Amostra ' + num_sample)\n",
        "\n",
        "  plt.savefig(f'Distribution_Sample_{num_sample}.pdf',format='pdf', bbox_inches='tight', pad_inches=0)"
      ]
    },
    {
      "cell_type": "code",
      "source": [
        "distribution('2')"
      ],
      "metadata": {
        "colab": {
          "base_uri": "https://localhost:8080/",
          "height": 286
        },
        "id": "VtaZKrm94Csb",
        "outputId": "a9612659-4c9b-489f-c3f3-a1b578a9a932"
      },
      "execution_count": null,
      "outputs": [
        {
          "output_type": "display_data",
          "data": {
            "text/plain": [
              "<Figure size 1600x400 with 3 Axes>"
            ],
            "image/png": "[encoded data removed]"
          },
          "metadata": {}
        }
      ]
    },
    {
      "cell_type": "code",
      "source": [
        "distribution('3')"
      ],
      "metadata": {
        "colab": {
          "base_uri": "https://localhost:8080/",
          "height": 286
        },
        "id": "0EhyDBbDFQqR",
        "outputId": "0e994270-e799-4d65-94a2-f8f48d5e807e"
      },
      "execution_count": null,
      "outputs": [
        {
          "output_type": "display_data",
          "data": {
            "text/plain": [
              "<Figure size 1600x400 with 3 Axes>"
            ],
            "image/png": "[encoded data removed]"
          },
          "metadata": {}
        }
      ]
    },
    {
      "cell_type": "code",
      "source": [
        "distribution('1')"
      ],
      "metadata": {
        "colab": {
          "base_uri": "https://localhost:8080/",
          "height": 286
        },
        "id": "h1dWjpzpFTub",
        "outputId": "a29be645-2939-4dd4-b306-b9b1539e70d5"
      },
      "execution_count": null,
      "outputs": [
        {
          "output_type": "display_data",
          "data": {
            "text/plain": [
              "<Figure size 1600x400 with 3 Axes>"
            ],
            "image/png": "[encoded data removed]"
          },
          "metadata": {}
        }
      ]
    },
    {
      "cell_type": "markdown",
      "metadata": {
        "id": "5zmXjQS85baN"
      },
      "source": [
        "Eliminação de frequências altas do sinal"
      ]
    },
    {
      "cell_type": "code",
      "execution_count": null,
      "metadata": {
        "id": "cvJ4mcSuaFAU"
      },
      "outputs": [],
      "source": [
        "def filter(df, filter='hampel', win_size=10, n_sigma=5):\n",
        "    '''\n",
        "    Função que aplica um filtro aos dados.\n",
        "    Parâmetros:\n",
        "      - df: data frame com as variáveis\n",
        "      - filter: 'hampel', 'media_movel' ou 'fourier'\n",
        "    Retorno:\n",
        "      - DataFrame filtrado\n",
        "    '''\n",
        "    cols = ['x','y','z']\n",
        "    df_filter = pd.DataFrame()\n",
        "\n",
        "    for label in df.label.unique():\n",
        "        dr = df.loc[df.label==label][cols].copy()\n",
        "\n",
        "        if filter == 'media_movel':\n",
        "          dr = dr.rolling(win_size, min_periods=1).mean()\n",
        "\n",
        "        elif filter == 'hampel':\n",
        "          dr = dr.apply(lambda x: hampel(x).filtered_data, axis=0)\n",
        "\n",
        "        else:\n",
        "          dr = fft(dr)\n",
        "          dr = pd.DataFrame(dr).rename(columns = {0:'x',1:'y',2:'z'})\n",
        "\n",
        "        dr['label']=label\n",
        "        df_filter = pd.concat([df_filter, dr])\n",
        "\n",
        "    return df_filter"
      ]
    },
    {
      "cell_type": "markdown",
      "metadata": {
        "id": "OCuzfpQF55AA"
      },
      "source": [
        "`Janela Deslizante` com `Sobreposição`"
      ]
    },
    {
      "cell_type": "code",
      "source": [
        "def sliding_window(df, window_size, overlap):\n",
        "    \"\"\"\n",
        "    Aplica o método da janela deslizante com sobreposição. Esse código não faz distinção\n",
        "    para tamanhos de janelas diferentes para labels diferentes.\n",
        "\n",
        "    Parâmetros:\n",
        "        - df: DataFrame filtrado contendo as colunas de aceleração dos eixos x, y e z.\n",
        "        - window_size: Tamanho da janela em número de linhas.\n",
        "        - overlap: Fração de sobreposição entre janelas (0 a 1).\n",
        "\n",
        "    Retorna:\n",
        "        - Um DataFrames segmentado em janelas.\n",
        "    \"\"\"\n",
        "    id = 1\n",
        "\n",
        "    df_all_labels = pd.DataFrame()\n",
        "\n",
        "    for label in df['label'].unique():\n",
        "\n",
        "      df_label = df[df.label == label].copy()\n",
        "      overlap_size = int(window_size * overlap)\n",
        "\n",
        "      windows = []\n",
        "      start_index = 0\n",
        "\n",
        "      while start_index < len(df_label):\n",
        "\n",
        "        end_index = min(start_index + window_size, len(df_label))\n",
        "        window_df = df_label.iloc[start_index:end_index].copy()\n",
        "        window_df.loc[:,'id'] = id\n",
        "\n",
        "        windows.append(window_df)\n",
        "        start_index += window_size - overlap_size\n",
        "        id += 1\n",
        "\n",
        "      df_label_seg = pd.concat(windows)\n",
        "\n",
        "      df_all_labels = pd.concat([df_all_labels, df_label_seg])\n",
        "      id = id\n",
        "\n",
        "    return df_all_labels"
      ],
      "metadata": {
        "id": "xmhisniV9QsP"
      },
      "execution_count": null,
      "outputs": []
    },
    {
      "cell_type": "markdown",
      "metadata": {
        "id": "_0-16R6R55AB"
      },
      "source": [
        "---"
      ]
    },
    {
      "cell_type": "code",
      "source": [
        "def features(df):\n",
        "  '''\n",
        "  Função que gera as features para aplicação dos algoritimos de ML.\n",
        "  Parâmetros:\n",
        "    - DataFrame já pré-processado com os valores de aceleração dos três eixos.\n",
        "  Retorno:\n",
        "    - Um df com as features.\n",
        "  '''\n",
        "  labels = df.label.unique()\n",
        "\n",
        "  axis, Metrics = ['x','y','z'], ['bin','max','min','mean','median','var','std','mad']\n",
        "  df_trat = pd.DataFrame()\n",
        "\n",
        "  for label in labels:\n",
        "\n",
        "    df_label = df[df[\"label\"] == label].copy()\n",
        "    ids_label_windows = df_label[\"id\"].unique() # Todas as ids das janelas para a label do loop\n",
        "\n",
        "    cont = 0\n",
        "\n",
        "    for window in range(len(df_trat), len(df_trat) + len(ids_label_windows)):\n",
        "\n",
        "      df_trat.loc[window, 'label'] = label\n",
        "\n",
        "      # calculando as features: maximo, minimo, binomial, media, mediana, variancia, desvp, mad\n",
        "      for a in axis:\n",
        "\n",
        "        serie = df_label[df_label.id == ids_label_windows[cont]][a]\n",
        "\n",
        "        for metric  in Metrics:\n",
        "\n",
        "          if metric == 'bin':\n",
        "            df_trat.loc[window, metric+a.upper()] = (serie.max() - serie.min())/10\n",
        "          elif metric == 'mad':\n",
        "            df_trat.loc[window, metric+a.upper()] = (serie - serie.mean()).abs().mean()\n",
        "          else:\n",
        "            OutherMetric = getattr(np, metric)\n",
        "            df_trat.loc[window, metric+a.upper()] = OutherMetric(serie)\n",
        "\n",
        "      #df_trat.loc[window, 'meanT'] = df_label[df_label.id == ids_label_windows[cont]]['t'].mean()\n",
        "\n",
        "      cont+=1\n",
        "\n",
        "  return df_trat"
      ],
      "metadata": {
        "id": "gda9SbnnM6G4"
      },
      "execution_count": null,
      "outputs": []
    },
    {
      "cell_type": "markdown",
      "source": [
        "Outras features de teste, que não usam segmentação"
      ],
      "metadata": {
        "id": "XJXs9O32ub6u"
      }
    },
    {
      "cell_type": "code",
      "source": [
        "def features_test(df):\n",
        "  '''\n",
        "  Função que gera as features para aplicação dos algoritimos de ML.\n",
        "  Parâmetros:\n",
        "    - DataFrame\n",
        "  Retorno:\n",
        "    - Um df com as features.\n",
        "  '''\n",
        "  labels = df.label.unique()\n",
        "\n",
        "  df = df.assign(acc = np.sqrt(df['x']**2 + df['y']**2 + df['z']**2),  )"
      ],
      "metadata": {
        "id": "PS9KOoLAumpP"
      },
      "execution_count": null,
      "outputs": []
    },
    {
      "cell_type": "markdown",
      "source": [
        "---"
      ],
      "metadata": {
        "id": "NY5yqXVW-LZi"
      }
    },
    {
      "cell_type": "markdown",
      "metadata": {
        "id": "nuVvNyWq55AB"
      },
      "source": [
        "### Aplicando os Algoritmos de Machine Learing"
      ]
    },
    {
      "cell_type": "code",
      "execution_count": null,
      "metadata": {
        "collapsed": true,
        "id": "FVNmjTGr55AB"
      },
      "outputs": [],
      "source": [
        "from sklearn.linear_model import LogisticRegression\n",
        "from sklearn.neighbors import KNeighborsClassifier\n",
        "from sklearn.ensemble import RandomForestClassifier\n",
        "from sklearn.tree import DecisionTreeClassifier\n",
        "from sklearn import svm\n",
        "\n",
        "from sklearn.model_selection import train_test_split\n",
        "from sklearn.preprocessing import StandardScaler\n",
        "from sklearn.preprocessing import OneHotEncoder\n",
        "from imblearn.over_sampling import SMOTE\n",
        "from sklearn.decomposition import PCA\n",
        "\n",
        "from sklearn.metrics import classification_report, confusion_matrix, ConfusionMatrixDisplay\n",
        "from sklearn.model_selection import cross_val_score\n",
        "from sklearn.metrics import r2_score\n",
        "from sklearn.metrics import f1_score\n",
        "from sklearn import metrics\n",
        "import itertools"
      ]
    },
    {
      "cell_type": "markdown",
      "source": [
        "---"
      ],
      "metadata": {
        "id": "Ux7D9IzV6j-2"
      }
    },
    {
      "cell_type": "code",
      "source": [
        "def data_train_test(num_sample, filtro='hampel', win_size=100, overlap=0.3, n_sigma=3, size_sample=80, rdn_state=42, n_components=None):\n",
        "    '''\n",
        "    Função para tratar os dados e obter os valores de treino e teste.\n",
        "    Entrada:\n",
        "      num_sample (str) : string do número da amostra estudada ('1', '2', ou '3')\n",
        "      filtro (str) : string com o nome do filtro ('media_movel', 'hampel')\n",
        "      win_size (int) : tamanho da janela que o filtro usará\n",
        "      overlap (float) : taxa de sobreposição, [0, 1]\n",
        "      n_sigma (int) : para o caso 'hampel'\n",
        "      size_sample (int) : tamanho da amostra desejada (janela deslizante)\n",
        "      rdn_state (int) : semente aleatória\n",
        "      n_components (int) : número de componentes principais para PCA (se None, não aplica PCA)\n",
        "    '''\n",
        "    df = ts(num_sample).time_step()\n",
        "\n",
        "    dfilter = filter(df, filtro, win_size, n_sigma)\n",
        "    ds = sliding_window(dfilter, size_sample, overlap)\n",
        "\n",
        "    df_trat = features(ds)\n",
        "    df_trat = df_trat.round(5)\n",
        "\n",
        "    labels = df_trat.label.unique()\n",
        "    df_trat[\"label\"] = df_trat[\"label\"].astype('category')\n",
        "    df_trat[\"label\"] = df_trat[\"label\"].cat.rename_categories(labels)\n",
        "    df_trat[\"label\"] = df_trat[\"label\"].cat.codes # Categorizando as labels\n",
        "\n",
        "    df_shuffled = df_trat.sample(frac=1, random_state=rdn_state).reset_index(drop=True) # Embaralhando os dados\n",
        "\n",
        "    df_input = df_shuffled.drop(columns=['label']).copy() # Definindo a entrada (input ou features)\n",
        "    df_output = df_shuffled['label'].copy() # Definindo a saida (output ou labels)\n",
        "\n",
        "    X = df_input.values\n",
        "    Y = df_output.values\n",
        "\n",
        "    smt = SMOTE(random_state = rdn_state) # Para balancear os dados\n",
        "    X, Y = smt.fit_resample(X, Y)\n",
        "\n",
        "    X_train, X_test, y_train, y_test = train_test_split(X, Y, test_size=0.3, random_state = rdn_state)\n",
        "\n",
        "    scaler = StandardScaler()\n",
        "    scaler.fit(X_train)\n",
        "    X_train = scaler.transform(X_train)\n",
        "    X_test = scaler.transform(X_test)\n",
        "\n",
        "    if n_components:\n",
        "        pca = PCA(n_components=n_components)\n",
        "        pca.fit(X_train)\n",
        "        X_train = pca.transform(X_train)\n",
        "        X_test = pca.transform(X_test)\n",
        "\n",
        "    return X_train, X_test, y_train, y_test, labels"
      ],
      "metadata": {
        "id": "IB_jfjMECQe_"
      },
      "execution_count": null,
      "outputs": []
    },
    {
      "cell_type": "code",
      "source": [
        "from re import L\n",
        "class MLInmetro:\n",
        "  '''\n",
        "  Provê diversos algoritmos de Machine Learing voltados para aplicação com os dados do Inmetro.\n",
        "  '''\n",
        "  def __init__(self, X_train, X_test, y_train, y_test, labels, random_state = 42):\n",
        "\n",
        "    self.X_train = X_train\n",
        "    self.X_test = X_test\n",
        "    self.y_train = y_train\n",
        "    self.y_test = y_test\n",
        "    self.labels = labels\n",
        "    self.random_state = random_state\n",
        "\n",
        "  def KNN(self, k=5):\n",
        "    '''\n",
        "    Função que implementa o algoritmo KNN.\n",
        "    '''\n",
        "\n",
        "    knn = KNeighborsClassifier(n_neighbors=k)\n",
        "    knn.fit(self.X_train, self.y_train)\n",
        "\n",
        "    y_pred = knn.predict(self.X_test)\n",
        "\n",
        "    Accuracy_KNN = metrics.accuracy_score(self.y_test, y_pred)\n",
        "    Score_KNN = f1_score(self.y_test, y_pred, average='weighted')\n",
        "\n",
        "    return Accuracy_KNN, Score_KNN, y_pred\n",
        "\n",
        "  def SVM(self, ker = 'rbf'):\n",
        "    '''\n",
        "    Função que implementa o algoritmo SVM.\n",
        "    '''\n",
        "\n",
        "    clf = svm.SVC(kernel = ker, random_state=self.random_state)\n",
        "    clf.fit(self.X_train, self.y_train)\n",
        "\n",
        "    yhat = clf.predict(self.X_test)\n",
        "\n",
        "    Accuracy_SVM = metrics.accuracy_score(self.y_test, yhat)\n",
        "    Score_SVM = f1_score(self.y_test, yhat, average='weighted')\n",
        "\n",
        "    return Accuracy_SVM, Score_SVM, yhat\n",
        "\n",
        "  def RandomForest(self, n_estimators=100):\n",
        "    '''\n",
        "    Função que implementa o algoritmo Random Forest.\n",
        "    '''\n",
        "\n",
        "    rf = RandomForestClassifier(n_estimators = n_estimators, random_state=self.random_state)\n",
        "    rf.fit(self.X_train, self.y_train)\n",
        "\n",
        "    pred_rf = rf.predict(self.X_test)\n",
        "\n",
        "    Accuracy_rf = metrics.accuracy_score(self.y_test, pred_rf)\n",
        "    Score_rf = f1_score(self.y_test, pred_rf, average = 'weighted')\n",
        "\n",
        "    return Accuracy_rf, Score_rf, pred_rf\n",
        "\n",
        "  def DecisionTree(self):\n",
        "    '''\n",
        "    Função que implementa o algoritmo Decision Tree.\n",
        "    '''\n",
        "\n",
        "    decision_tree_classifier = DecisionTreeClassifier(random_state=self.random_state)\n",
        "    decision_tree_classifier.fit(self.X_train, self.y_train)\n",
        "\n",
        "    y_pred_dt = decision_tree_classifier.predict(self.X_test)\n",
        "\n",
        "    Accuracy_dt = metrics.accuracy_score(self.y_test, y_pred_dt)\n",
        "    Score_dt = f1_score(self.y_test, y_pred_dt, average = 'weighted')\n",
        "\n",
        "    return Accuracy_dt, Score_dt, y_pred_dt\n",
        "\n",
        "  def ConfusionMatrix(self, y_pred, name):\n",
        "    '''\n",
        "    Função que plota a matriz de confusão para o classificador repassado.\n",
        "    '''\n",
        "    cm = confusion_matrix(self.y_test, y_pred)\n",
        "\n",
        "    # Plotar a matriz de confusão\n",
        "    sns.heatmap(cm, annot=True, fmt='d', cmap='Blues', xticklabels=self.labels, yticklabels=self.labels)\n",
        "    plt.xlabel('Predito')\n",
        "    plt.ylabel('Real')\n",
        "    plt.title(f'Matriz de Confusão - {name}')\n",
        "    plt.savefig(f'Confusion_Matrix_{name}.pdf', bbox_inches='tight', pad_inches=0)\n",
        "\n",
        "  def CrossValidation(self, k=5):\n",
        "    '''\n",
        "    Função que realiza a validação cruzada para um classificador especificado.\n",
        "    '''\n",
        "\n",
        "    lasso = Linear\n",
        "    # Realizar a validação cruzada\n",
        "    scores = cross_val_score(classifier, self.X_train, self.y_train, cv=k)\n",
        "\n",
        "    return scores"
      ],
      "metadata": {
        "id": "U0vrWGaB0Eu1"
      },
      "execution_count": null,
      "outputs": []
    },
    {
      "cell_type": "code",
      "source": [
        "def train_and_evaluate(num_sample, filtro='media_movel', win_size=250, overlap=0.4, n_sigma=3, size_sample=250, rdn_state=42, n_components=None):\n",
        "  X_train, X_test, y_train, y_test, labels = data_train_test(num_sample, filtro, win_size, overlap, n_sigma, size_sample, rdn_state, n_components)\n",
        "  ml_inmetro = MLInmetro(X_train, X_test, y_train, y_test, labels)\n",
        "\n",
        "  results = []\n",
        "\n",
        "  classifiers = ['RandomForest', 'DecisionTree']\n",
        "  for clf in classifiers:\n",
        "      scores = ml_inmetro.CrossValidation(clf, k=10)\n",
        "      results.append([clf, scores.mean(), scores.std()])\n",
        "\n",
        "  return results"
      ],
      "metadata": {
        "id": "Y0njW99FmDIj"
      },
      "execution_count": null,
      "outputs": []
    },
    {
      "cell_type": "code",
      "source": [
        "train_and_evaluate('1', filtro='media_movel', win_size=230, overlap=0.4, n_sigma=3, size_sample=250)"
      ],
      "metadata": {
        "colab": {
          "base_uri": "https://localhost:8080/",
          "height": 339
        },
        "id": "cQowVErQnIdw",
        "outputId": "22571efc-e0c2-4d47-c01b-c85f71c9a6e2"
      },
      "execution_count": null,
      "outputs": [
        {
          "output_type": "error",
          "ename": "InvalidParameterError",
          "evalue": "The 'estimator' parameter of check_scoring must be an object implementing 'fit'. Got <bound method MLInmetro.RandomForest of <__main__.MLInmetro object at 0x7915e3ac5720>> instead.",
          "traceback": [
            "\u001b[0;31m---------------------------------------------------------------------------\u001b[0m",
            "\u001b[0;31mInvalidParameterError\u001b[0m                     Traceback (most recent call last)",
            "\u001b[0;32m<ipython-input-36-7f8dce548859>\u001b[0m in \u001b[0;36m<cell line: 1>\u001b[0;34m()\u001b[0m\n\u001b[0;32m----> 1\u001b[0;31m \u001b[0mtrain_and_evaluate\u001b[0m\u001b[0;34m(\u001b[0m\u001b[0;34m'1'\u001b[0m\u001b[0;34m,\u001b[0m \u001b[0mfiltro\u001b[0m\u001b[0;34m=\u001b[0m\u001b[0;34m'media_movel'\u001b[0m\u001b[0;34m,\u001b[0m \u001b[0mwin_size\u001b[0m\u001b[0;34m=\u001b[0m\u001b[0;36m230\u001b[0m\u001b[0;34m,\u001b[0m \u001b[0moverlap\u001b[0m\u001b[0;34m=\u001b[0m\u001b[0;36m0.4\u001b[0m\u001b[0;34m,\u001b[0m \u001b[0mn_sigma\u001b[0m\u001b[0;34m=\u001b[0m\u001b[0;36m3\u001b[0m\u001b[0;34m,\u001b[0m \u001b[0msize_sample\u001b[0m\u001b[0;34m=\u001b[0m\u001b[0;36m250\u001b[0m\u001b[0;34m)\u001b[0m\u001b[0;34m\u001b[0m\u001b[0;34m\u001b[0m\u001b[0m\n\u001b[0m",
            "\u001b[0;32m<ipython-input-35-c6a585473c55>\u001b[0m in \u001b[0;36mtrain_and_evaluate\u001b[0;34m(num_sample, filtro, win_size, overlap, n_sigma, size_sample, rdn_state, n_components)\u001b[0m\n\u001b[1;32m      7\u001b[0m   \u001b[0mclassifiers\u001b[0m \u001b[0;34m=\u001b[0m \u001b[0;34m[\u001b[0m\u001b[0;34m'RandomForest'\u001b[0m\u001b[0;34m,\u001b[0m \u001b[0;34m'DecisionTree'\u001b[0m\u001b[0;34m]\u001b[0m\u001b[0;34m\u001b[0m\u001b[0;34m\u001b[0m\u001b[0m\n\u001b[1;32m      8\u001b[0m   \u001b[0;32mfor\u001b[0m \u001b[0mclf\u001b[0m \u001b[0;32min\u001b[0m \u001b[0mclassifiers\u001b[0m\u001b[0;34m:\u001b[0m\u001b[0;34m\u001b[0m\u001b[0;34m\u001b[0m\u001b[0m\n\u001b[0;32m----> 9\u001b[0;31m       \u001b[0mscores\u001b[0m \u001b[0;34m=\u001b[0m \u001b[0mml_inmetro\u001b[0m\u001b[0;34m.\u001b[0m\u001b[0mCrossValidation\u001b[0m\u001b[0;34m(\u001b[0m\u001b[0mclf\u001b[0m\u001b[0;34m,\u001b[0m \u001b[0mk\u001b[0m\u001b[0;34m=\u001b[0m\u001b[0;36m10\u001b[0m\u001b[0;34m)\u001b[0m\u001b[0;34m\u001b[0m\u001b[0;34m\u001b[0m\u001b[0m\n\u001b[0m\u001b[1;32m     10\u001b[0m       \u001b[0mresults\u001b[0m\u001b[0;34m.\u001b[0m\u001b[0mappend\u001b[0m\u001b[0;34m(\u001b[0m\u001b[0;34m[\u001b[0m\u001b[0mclf\u001b[0m\u001b[0;34m,\u001b[0m \u001b[0mscores\u001b[0m\u001b[0;34m.\u001b[0m\u001b[0mmean\u001b[0m\u001b[0;34m(\u001b[0m\u001b[0;34m)\u001b[0m\u001b[0;34m,\u001b[0m \u001b[0mscores\u001b[0m\u001b[0;34m.\u001b[0m\u001b[0mstd\u001b[0m\u001b[0;34m(\u001b[0m\u001b[0;34m)\u001b[0m\u001b[0;34m]\u001b[0m\u001b[0;34m)\u001b[0m\u001b[0;34m\u001b[0m\u001b[0;34m\u001b[0m\u001b[0m\n\u001b[1;32m     11\u001b[0m \u001b[0;34m\u001b[0m\u001b[0m\n",
            "\u001b[0;32m<ipython-input-34-946210258b5c>\u001b[0m in \u001b[0;36mCrossValidation\u001b[0;34m(self, classifier_name, k)\u001b[0m\n\u001b[1;32m     92\u001b[0m     \u001b[0mclassifier\u001b[0m \u001b[0;34m=\u001b[0m \u001b[0mclassifier_class\u001b[0m\u001b[0;34m\u001b[0m\u001b[0;34m\u001b[0m\u001b[0m\n\u001b[1;32m     93\u001b[0m     \u001b[0;31m# Realizar a validação cruzada\u001b[0m\u001b[0;34m\u001b[0m\u001b[0;34m\u001b[0m\u001b[0m\n\u001b[0;32m---> 94\u001b[0;31m     \u001b[0mscores\u001b[0m \u001b[0;34m=\u001b[0m \u001b[0mcross_val_score\u001b[0m\u001b[0;34m(\u001b[0m\u001b[0mclassifier\u001b[0m\u001b[0;34m,\u001b[0m \u001b[0mself\u001b[0m\u001b[0;34m.\u001b[0m\u001b[0mX_train\u001b[0m\u001b[0;34m,\u001b[0m \u001b[0mself\u001b[0m\u001b[0;34m.\u001b[0m\u001b[0my_train\u001b[0m\u001b[0;34m,\u001b[0m \u001b[0mcv\u001b[0m\u001b[0;34m=\u001b[0m\u001b[0mk\u001b[0m\u001b[0;34m)\u001b[0m\u001b[0;34m\u001b[0m\u001b[0;34m\u001b[0m\u001b[0m\n\u001b[0m\u001b[1;32m     95\u001b[0m \u001b[0;34m\u001b[0m\u001b[0m\n\u001b[1;32m     96\u001b[0m     \u001b[0;32mreturn\u001b[0m \u001b[0mscores\u001b[0m\u001b[0;34m\u001b[0m\u001b[0;34m\u001b[0m\u001b[0m\n",
            "\u001b[0;32m/usr/local/lib/python3.10/dist-packages/sklearn/model_selection/_validation.py\u001b[0m in \u001b[0;36mcross_val_score\u001b[0;34m(estimator, X, y, groups, scoring, cv, n_jobs, verbose, fit_params, pre_dispatch, error_score)\u001b[0m\n\u001b[1;32m    558\u001b[0m     \"\"\"\n\u001b[1;32m    559\u001b[0m     \u001b[0;31m# To ensure multimetric format is not supported\u001b[0m\u001b[0;34m\u001b[0m\u001b[0;34m\u001b[0m\u001b[0m\n\u001b[0;32m--> 560\u001b[0;31m     \u001b[0mscorer\u001b[0m \u001b[0;34m=\u001b[0m \u001b[0mcheck_scoring\u001b[0m\u001b[0;34m(\u001b[0m\u001b[0mestimator\u001b[0m\u001b[0;34m,\u001b[0m \u001b[0mscoring\u001b[0m\u001b[0;34m=\u001b[0m\u001b[0mscoring\u001b[0m\u001b[0;34m)\u001b[0m\u001b[0;34m\u001b[0m\u001b[0;34m\u001b[0m\u001b[0m\n\u001b[0m\u001b[1;32m    561\u001b[0m \u001b[0;34m\u001b[0m\u001b[0m\n\u001b[1;32m    562\u001b[0m     cv_results = cross_validate(\n",
            "\u001b[0;32m/usr/local/lib/python3.10/dist-packages/sklearn/utils/_param_validation.py\u001b[0m in \u001b[0;36mwrapper\u001b[0;34m(*args, **kwargs)\u001b[0m\n\u001b[1;32m    202\u001b[0m             \u001b[0mparams\u001b[0m \u001b[0;34m=\u001b[0m \u001b[0;34m{\u001b[0m\u001b[0mk\u001b[0m\u001b[0;34m:\u001b[0m \u001b[0mv\u001b[0m \u001b[0;32mfor\u001b[0m \u001b[0mk\u001b[0m\u001b[0;34m,\u001b[0m \u001b[0mv\u001b[0m \u001b[0;32min\u001b[0m \u001b[0mparams\u001b[0m\u001b[0;34m.\u001b[0m\u001b[0marguments\u001b[0m\u001b[0;34m.\u001b[0m\u001b[0mitems\u001b[0m\u001b[0;34m(\u001b[0m\u001b[0;34m)\u001b[0m \u001b[0;32mif\u001b[0m \u001b[0mk\u001b[0m \u001b[0;32mnot\u001b[0m \u001b[0;32min\u001b[0m \u001b[0mto_ignore\u001b[0m\u001b[0;34m}\u001b[0m\u001b[0;34m\u001b[0m\u001b[0;34m\u001b[0m\u001b[0m\n\u001b[1;32m    203\u001b[0m \u001b[0;34m\u001b[0m\u001b[0m\n\u001b[0;32m--> 204\u001b[0;31m             validate_parameter_constraints(\n\u001b[0m\u001b[1;32m    205\u001b[0m                 \u001b[0mparameter_constraints\u001b[0m\u001b[0;34m,\u001b[0m \u001b[0mparams\u001b[0m\u001b[0;34m,\u001b[0m \u001b[0mcaller_name\u001b[0m\u001b[0;34m=\u001b[0m\u001b[0mfunc\u001b[0m\u001b[0;34m.\u001b[0m\u001b[0m__qualname__\u001b[0m\u001b[0;34m\u001b[0m\u001b[0;34m\u001b[0m\u001b[0m\n\u001b[1;32m    206\u001b[0m             )\n",
            "\u001b[0;32m/usr/local/lib/python3.10/dist-packages/sklearn/utils/_param_validation.py\u001b[0m in \u001b[0;36mvalidate_parameter_constraints\u001b[0;34m(parameter_constraints, params, caller_name)\u001b[0m\n\u001b[1;32m     94\u001b[0m                 )\n\u001b[1;32m     95\u001b[0m \u001b[0;34m\u001b[0m\u001b[0m\n\u001b[0;32m---> 96\u001b[0;31m             raise InvalidParameterError(\n\u001b[0m\u001b[1;32m     97\u001b[0m                 \u001b[0;34mf\"The {param_name!r} parameter of {caller_name} must be\"\u001b[0m\u001b[0;34m\u001b[0m\u001b[0;34m\u001b[0m\u001b[0m\n\u001b[1;32m     98\u001b[0m                 \u001b[0;34mf\" {constraints_str}. Got {param_val!r} instead.\"\u001b[0m\u001b[0;34m\u001b[0m\u001b[0;34m\u001b[0m\u001b[0m\n",
            "\u001b[0;31mInvalidParameterError\u001b[0m: The 'estimator' parameter of check_scoring must be an object implementing 'fit'. Got <bound method MLInmetro.RandomForest of <__main__.MLInmetro object at 0x7915e3ac5720>> instead."
          ]
        }
      ]
    },
    {
      "cell_type": "markdown",
      "source": [
        "# Testes"
      ],
      "metadata": {
        "id": "j7CloVLCvxd-"
      }
    },
    {
      "cell_type": "code",
      "source": [
        "possible_filters = ['media_movel', 'hampel']\n",
        "possible_win_size_media_movel = range(50, 250, 20)\n",
        "possible_win_size_hampel = range(10, 20, 2)\n",
        "possible_n_sigma = range(3, 15)\n",
        "possible_size_sample = range(40, 270 , 30)"
      ],
      "metadata": {
        "id": "Kful2k60Uyr-"
      },
      "execution_count": null,
      "outputs": []
    },
    {
      "source": [
        "df_testes = pd.DataFrame()\n",
        "\n",
        "for filtro in possible_filters:\n",
        "\n",
        "  if filtro == 'media_movel':\n",
        "    wins_size = possible_win_size_media_movel\n",
        "  else:\n",
        "    wins_size = possible_win_size_hampel\n",
        "\n",
        "  for wsize in wins_size:\n",
        "    for size in possible_size_sample:\n",
        "      for sobrep in [0.20, 0.30, 0.40]:\n",
        "\n",
        "        X_train, X_test, y_train, y_test, labels = data_train_test('1', filtro = filtro, win_size = wsize, overlap=sobrep, n_sigma=3, size_sample = size, rdn_state=42)\n",
        "        MLS = MLInmetro(X_train, X_test, y_train, y_test, labels)\n",
        "\n",
        "        temp_results = pd.DataFrame({\n",
        "            'Accuracy_KNN': [MLS.KNN()[0]],\n",
        "            'Score_KNN': [MLS.KNN()[1]],\n",
        "            'Accuracy_SVM': [MLS.SVM()[0]],\n",
        "            'Score_SVM': [MLS.SVM()[1]],\n",
        "            'Accuracy_RF': [MLS.RandomForest()[0]],\n",
        "            'Score_RF': [MLS.RandomForest()[1]],\n",
        "            'Accuracy_DT': [MLS.DecisionTree()[0]],\n",
        "            'Score_DT': [MLS.DecisionTree()[1]],\n",
        "            'filtro': [filtro],\n",
        "            'win_size': [wsize],\n",
        "            'size_sample': [size],\n",
        "            'overlap': [sobrep]})\n",
        "\n",
        "        df_testes = pd.concat([df_testes, temp_results])"
      ],
      "cell_type": "code",
      "metadata": {
        "id": "qS2h3wVsr6ZK"
      },
      "execution_count": null,
      "outputs": []
    },
    {
      "cell_type": "code",
      "source": [
        "df_testes.to_csv('testes_Trajeto_3.csv')"
      ],
      "metadata": {
        "id": "FU7DbtOjWkCx"
      },
      "execution_count": null,
      "outputs": []
    },
    {
      "cell_type": "code",
      "source": [
        "df_testes.sort_values(by=['Score_RF'], ascending=False).head(10)"
      ],
      "metadata": {
        "colab": {
          "base_uri": "https://localhost:8080/",
          "height": 383
        },
        "id": "cQphLtSIvUSC",
        "outputId": "cfcf2a4d-2e04-486e-b89d-32ae20d28225"
      },
      "execution_count": null,
      "outputs": [
        {
          "output_type": "execute_result",
          "data": {
            "text/plain": [
              "   Accuracy_KNN  Score_KNN  Accuracy_SVM  Score_SVM  Accuracy_RF  Score_RF  \\\n",
              "0      0.846429   0.847136      0.821429   0.822838     0.900000  0.899690   \n",
              "0      0.821429   0.822019      0.814286   0.815039     0.885714  0.886058   \n",
              "0      0.782143   0.783825      0.825000   0.825853     0.885714  0.885770   \n",
              "0      0.787302   0.786723      0.787302   0.787036     0.885714  0.884986   \n",
              "0      0.774603   0.774504      0.812698   0.811707     0.882540  0.881711   \n",
              "0      0.789286   0.789705      0.817857   0.818757     0.882143  0.881517   \n",
              "0      0.774390   0.773354      0.844512   0.845141     0.878049  0.876998   \n",
              "0      0.807588   0.805981      0.799458   0.798761     0.872629  0.872511   \n",
              "0      0.800000   0.799978      0.812698   0.811739     0.873016  0.872327   \n",
              "0      0.821429   0.822229      0.803571   0.805433     0.871429  0.870837   \n",
              "\n",
              "   Accuracy_DT  Score_DT       filtro  win_size  size_sample  overlap  \n",
              "0     0.775000  0.775804  media_movel       230          250      0.4  \n",
              "0     0.832143  0.832508  media_movel       190          250      0.4  \n",
              "0     0.796429  0.797889  media_movel       170          250      0.4  \n",
              "0     0.815873  0.814829  media_movel       230          190      0.3  \n",
              "0     0.777778  0.777824  media_movel       170          190      0.3  \n",
              "0     0.789286  0.790372  media_movel        90          250      0.4  \n",
              "0     0.789634  0.790656  media_movel       230          160      0.2  \n",
              "0     0.796748  0.796921  media_movel       230          190      0.4  \n",
              "0     0.752381  0.750943  media_movel       190          190      0.3  \n",
              "0     0.771429  0.772260  media_movel       130          250      0.4  "
            ],
            "text/html": [
              "\n",
              "  <div id=\"df-fa31fbb9-cd53-4f93-9442-249e4981bf25\" class=\"colab-df-container\">\n",
              "    <div>\n",
              "<style scoped>\n",
              "    .dataframe tbody tr th:only-of-type {\n",
              "        vertical-align: middle;\n",
              "    }\n",
              "\n",
              "    .dataframe tbody tr th {\n",
              "        vertical-align: top;\n",
              "    }\n",
              "\n",
              "    .dataframe thead th {\n",
              "        text-align: right;\n",
              "    }\n",
              "</style>\n",
              "<table border=\"1\" class=\"dataframe\">\n",
              "  <thead>\n",
              "    <tr style=\"text-align: right;\">\n",
              "      <th></th>\n",
              "      <th>Accuracy_KNN</th>\n",
              "      <th>Score_KNN</th>\n",
              "      <th>Accuracy_SVM</th>\n",
              "      <th>Score_SVM</th>\n",
              "      <th>Accuracy_RF</th>\n",
              "      <th>Score_RF</th>\n",
              "      <th>Accuracy_DT</th>\n",
              "      <th>Score_DT</th>\n",
              "      <th>filtro</th>\n",
              "      <th>win_size</th>\n",
              "      <th>size_sample</th>\n",
              "      <th>overlap</th>\n",
              "    </tr>\n",
              "  </thead>\n",
              "  <tbody>\n",
              "    <tr>\n",
              "      <th>0</th>\n",
              "      <td>0.846429</td>\n",
              "      <td>0.847136</td>\n",
              "      <td>0.821429</td>\n",
              "      <td>0.822838</td>\n",
              "      <td>0.900000</td>\n",
              "      <td>0.899690</td>\n",
              "      <td>0.775000</td>\n",
              "      <td>0.775804</td>\n",
              "      <td>media_movel</td>\n",
              "      <td>230</td>\n",
              "      <td>250</td>\n",
              "      <td>0.4</td>\n",
              "    </tr>\n",
              "    <tr>\n",
              "      <th>0</th>\n",
              "      <td>0.821429</td>\n",
              "      <td>0.822019</td>\n",
              "      <td>0.814286</td>\n",
              "      <td>0.815039</td>\n",
              "      <td>0.885714</td>\n",
              "      <td>0.886058</td>\n",
              "      <td>0.832143</td>\n",
              "      <td>0.832508</td>\n",
              "      <td>media_movel</td>\n",
              "      <td>190</td>\n",
              "      <td>250</td>\n",
              "      <td>0.4</td>\n",
              "    </tr>\n",
              "    <tr>\n",
              "      <th>0</th>\n",
              "      <td>0.782143</td>\n",
              "      <td>0.783825</td>\n",
              "      <td>0.825000</td>\n",
              "      <td>0.825853</td>\n",
              "      <td>0.885714</td>\n",
              "      <td>0.885770</td>\n",
              "      <td>0.796429</td>\n",
              "      <td>0.797889</td>\n",
              "      <td>media_movel</td>\n",
              "      <td>170</td>\n",
              "      <td>250</td>\n",
              "      <td>0.4</td>\n",
              "    </tr>\n",
              "    <tr>\n",
              "      <th>0</th>\n",
              "      <td>0.787302</td>\n",
              "      <td>0.786723</td>\n",
              "      <td>0.787302</td>\n",
              "      <td>0.787036</td>\n",
              "      <td>0.885714</td>\n",
              "      <td>0.884986</td>\n",
              "      <td>0.815873</td>\n",
              "      <td>0.814829</td>\n",
              "      <td>media_movel</td>\n",
              "      <td>230</td>\n",
              "      <td>190</td>\n",
              "      <td>0.3</td>\n",
              "    </tr>\n",
              "    <tr>\n",
              "      <th>0</th>\n",
              "      <td>0.774603</td>\n",
              "      <td>0.774504</td>\n",
              "      <td>0.812698</td>\n",
              "      <td>0.811707</td>\n",
              "      <td>0.882540</td>\n",
              "      <td>0.881711</td>\n",
              "      <td>0.777778</td>\n",
              "      <td>0.777824</td>\n",
              "      <td>media_movel</td>\n",
              "      <td>170</td>\n",
              "      <td>190</td>\n",
              "      <td>0.3</td>\n",
              "    </tr>\n",
              "    <tr>\n",
              "      <th>0</th>\n",
              "      <td>0.789286</td>\n",
              "      <td>0.789705</td>\n",
              "      <td>0.817857</td>\n",
              "      <td>0.818757</td>\n",
              "      <td>0.882143</td>\n",
              "      <td>0.881517</td>\n",
              "      <td>0.789286</td>\n",
              "      <td>0.790372</td>\n",
              "      <td>media_movel</td>\n",
              "      <td>90</td>\n",
              "      <td>250</td>\n",
              "      <td>0.4</td>\n",
              "    </tr>\n",
              "    <tr>\n",
              "      <th>0</th>\n",
              "      <td>0.774390</td>\n",
              "      <td>0.773354</td>\n",
              "      <td>0.844512</td>\n",
              "      <td>0.845141</td>\n",
              "      <td>0.878049</td>\n",
              "      <td>0.876998</td>\n",
              "      <td>0.789634</td>\n",
              "      <td>0.790656</td>\n",
              "      <td>media_movel</td>\n",
              "      <td>230</td>\n",
              "      <td>160</td>\n",
              "      <td>0.2</td>\n",
              "    </tr>\n",
              "    <tr>\n",
              "      <th>0</th>\n",
              "      <td>0.807588</td>\n",
              "      <td>0.805981</td>\n",
              "      <td>0.799458</td>\n",
              "      <td>0.798761</td>\n",
              "      <td>0.872629</td>\n",
              "      <td>0.872511</td>\n",
              "      <td>0.796748</td>\n",
              "      <td>0.796921</td>\n",
              "      <td>media_movel</td>\n",
              "      <td>230</td>\n",
              "      <td>190</td>\n",
              "      <td>0.4</td>\n",
              "    </tr>\n",
              "    <tr>\n",
              "      <th>0</th>\n",
              "      <td>0.800000</td>\n",
              "      <td>0.799978</td>\n",
              "      <td>0.812698</td>\n",
              "      <td>0.811739</td>\n",
              "      <td>0.873016</td>\n",
              "      <td>0.872327</td>\n",
              "      <td>0.752381</td>\n",
              "      <td>0.750943</td>\n",
              "      <td>media_movel</td>\n",
              "      <td>190</td>\n",
              "      <td>190</td>\n",
              "      <td>0.3</td>\n",
              "    </tr>\n",
              "    <tr>\n",
              "      <th>0</th>\n",
              "      <td>0.821429</td>\n",
              "      <td>0.822229</td>\n",
              "      <td>0.803571</td>\n",
              "      <td>0.805433</td>\n",
              "      <td>0.871429</td>\n",
              "      <td>0.870837</td>\n",
              "      <td>0.771429</td>\n",
              "      <td>0.772260</td>\n",
              "      <td>media_movel</td>\n",
              "      <td>130</td>\n",
              "      <td>250</td>\n",
              "      <td>0.4</td>\n",
              "    </tr>\n",
              "  </tbody>\n",
              "</table>\n",
              "</div>\n",
              "    <div class=\"colab-df-buttons\">\n",
              "\n",
              "  <div class=\"colab-df-container\">\n",
              "    <button class=\"colab-df-convert\" onclick=\"convertToInteractive('df-fa31fbb9-cd53-4f93-9442-249e4981bf25')\"\n",
              "            title=\"Convert this dataframe to an interactive table.\"\n",
              "            style=\"display:none;\">\n",
              "\n",
              "  <svg xmlns=\"http://www.w3.org/2000/svg\" height=\"24px\" viewBox=\"0 -960 960 960\">\n",
              "    <path d=\"M120-120v-720h720v720H120Zm60-500h600v-160H180v160Zm220 220h160v-160H400v160Zm0 220h160v-160H400v160ZM180-400h160v-160H180v160Zm440 0h160v-160H620v160ZM180-180h160v-160H180v160Zm440 0h160v-160H620v160Z\"/>\n",
              "  </svg>\n",
              "    </button>\n",
              "\n",
              "  <style>\n",
              "    .colab-df-container {\n",
              "      display:flex;\n",
              "      gap: 12px;\n",
              "    }\n",
              "\n",
              "    .colab-df-convert {\n",
              "      background-color: #E8F0FE;\n",
              "      border: none;\n",
              "      border-radius: 50%;\n",
              "      cursor: pointer;\n",
              "      display: none;\n",
              "      fill: #1967D2;\n",
              "      height: 32px;\n",
              "      padding: 0 0 0 0;\n",
              "      width: 32px;\n",
              "    }\n",
              "\n",
              "    .colab-df-convert:hover {\n",
              "      background-color: #E2EBFA;\n",
              "      box-shadow: 0px 1px 2px rgba(60, 64, 67, 0.3), 0px 1px 3px 1px rgba(60, 64, 67, 0.15);\n",
              "      fill: #174EA6;\n",
              "    }\n",
              "\n",
              "    .colab-df-buttons div {\n",
              "      margin-bottom: 4px;\n",
              "    }\n",
              "\n",
              "    [theme=dark] .colab-df-convert {\n",
              "      background-color: #3B4455;\n",
              "      fill: #D2E3FC;\n",
              "    }\n",
              "\n",
              "    [theme=dark] .colab-df-convert:hover {\n",
              "      background-color: #434B5C;\n",
              "      box-shadow: 0px 1px 3px 1px rgba(0, 0, 0, 0.15);\n",
              "      filter: drop-shadow(0px 1px 2px rgba(0, 0, 0, 0.3));\n",
              "      fill: #FFFFFF;\n",
              "    }\n",
              "  </style>\n",
              "\n",
              "    <script>\n",
              "      const buttonEl =\n",
              "        document.querySelector('#df-fa31fbb9-cd53-4f93-9442-249e4981bf25 button.colab-df-convert');\n",
              "      buttonEl.style.display =\n",
              "        google.colab.kernel.accessAllowed ? 'block' : 'none';\n",
              "\n",
              "      async function convertToInteractive(key) {\n",
              "        const element = document.querySelector('#df-fa31fbb9-cd53-4f93-9442-249e4981bf25');\n",
              "        const dataTable =\n",
              "          await google.colab.kernel.invokeFunction('convertToInteractive',\n",
              "                                                    [key], {});\n",
              "        if (!dataTable) return;\n",
              "\n",
              "        const docLinkHtml = 'Like what you see? Visit the ' +\n",
              "          '<a target=\"_blank\" href=https://colab.research.google.com/notebooks/data_table.ipynb>data table notebook</a>'\n",
              "          + ' to learn more about interactive tables.';\n",
              "        element.innerHTML = '';\n",
              "        dataTable['output_type'] = 'display_data';\n",
              "        await google.colab.output.renderOutput(dataTable, element);\n",
              "        const docLink = document.createElement('div');\n",
              "        docLink.innerHTML = docLinkHtml;\n",
              "        element.appendChild(docLink);\n",
              "      }\n",
              "    </script>\n",
              "  </div>\n",
              "\n",
              "\n",
              "<div id=\"df-3f47644a-b1c8-47c1-83c4-817978fb8939\">\n",
              "  <button class=\"colab-df-quickchart\" onclick=\"quickchart('df-3f47644a-b1c8-47c1-83c4-817978fb8939')\"\n",
              "            title=\"Suggest charts\"\n",
              "            style=\"display:none;\">\n",
              "\n",
              "<svg xmlns=\"http://www.w3.org/2000/svg\" height=\"24px\"viewBox=\"0 0 24 24\"\n",
              "     width=\"24px\">\n",
              "    <g>\n",
              "        <path d=\"M19 3H5c-1.1 0-2 .9-2 2v14c0 1.1.9 2 2 2h14c1.1 0 2-.9 2-2V5c0-1.1-.9-2-2-2zM9 17H7v-7h2v7zm4 0h-2V7h2v10zm4 0h-2v-4h2v4z\"/>\n",
              "    </g>\n",
              "</svg>\n",
              "  </button>\n",
              "\n",
              "<style>\n",
              "  .colab-df-quickchart {\n",
              "      --bg-color: #E8F0FE;\n",
              "      --fill-color: #1967D2;\n",
              "      --hover-bg-color: #E2EBFA;\n",
              "      --hover-fill-color: #174EA6;\n",
              "      --disabled-fill-color: #AAA;\n",
              "      --disabled-bg-color: #DDD;\n",
              "  }\n",
              "\n",
              "  [theme=dark] .colab-df-quickchart {\n",
              "      --bg-color: #3B4455;\n",
              "      --fill-color: #D2E3FC;\n",
              "      --hover-bg-color: #434B5C;\n",
              "      --hover-fill-color: #FFFFFF;\n",
              "      --disabled-bg-color: #3B4455;\n",
              "      --disabled-fill-color: #666;\n",
              "  }\n",
              "\n",
              "  .colab-df-quickchart {\n",
              "    background-color: var(--bg-color);\n",
              "    border: none;\n",
              "    border-radius: 50%;\n",
              "    cursor: pointer;\n",
              "    display: none;\n",
              "    fill: var(--fill-color);\n",
              "    height: 32px;\n",
              "    padding: 0;\n",
              "    width: 32px;\n",
              "  }\n",
              "\n",
              "  .colab-df-quickchart:hover {\n",
              "    background-color: var(--hover-bg-color);\n",
              "    box-shadow: 0 1px 2px rgba(60, 64, 67, 0.3), 0 1px 3px 1px rgba(60, 64, 67, 0.15);\n",
              "    fill: var(--button-hover-fill-color);\n",
              "  }\n",
              "\n",
              "  .colab-df-quickchart-complete:disabled,\n",
              "  .colab-df-quickchart-complete:disabled:hover {\n",
              "    background-color: var(--disabled-bg-color);\n",
              "    fill: var(--disabled-fill-color);\n",
              "    box-shadow: none;\n",
              "  }\n",
              "\n",
              "  .colab-df-spinner {\n",
              "    border: 2px solid var(--fill-color);\n",
              "    border-color: transparent;\n",
              "    border-bottom-color: var(--fill-color);\n",
              "    animation:\n",
              "      spin 1s steps(1) infinite;\n",
              "  }\n",
              "\n",
              "  @keyframes spin {\n",
              "    0% {\n",
              "      border-color: transparent;\n",
              "      border-bottom-color: var(--fill-color);\n",
              "      border-left-color: var(--fill-color);\n",
              "    }\n",
              "    20% {\n",
              "      border-color: transparent;\n",
              "      border-left-color: var(--fill-color);\n",
              "      border-top-color: var(--fill-color);\n",
              "    }\n",
              "    30% {\n",
              "      border-color: transparent;\n",
              "      border-left-color: var(--fill-color);\n",
              "      border-top-color: var(--fill-color);\n",
              "      border-right-color: var(--fill-color);\n",
              "    }\n",
              "    40% {\n",
              "      border-color: transparent;\n",
              "      border-right-color: var(--fill-color);\n",
              "      border-top-color: var(--fill-color);\n",
              "    }\n",
              "    60% {\n",
              "      border-color: transparent;\n",
              "      border-right-color: var(--fill-color);\n",
              "    }\n",
              "    80% {\n",
              "      border-color: transparent;\n",
              "      border-right-color: var(--fill-color);\n",
              "      border-bottom-color: var(--fill-color);\n",
              "    }\n",
              "    90% {\n",
              "      border-color: transparent;\n",
              "      border-bottom-color: var(--fill-color);\n",
              "    }\n",
              "  }\n",
              "</style>\n",
              "\n",
              "  <script>\n",
              "    async function quickchart(key) {\n",
              "      const quickchartButtonEl =\n",
              "        document.querySelector('#' + key + ' button');\n",
              "      quickchartButtonEl.disabled = true;  // To prevent multiple clicks.\n",
              "      quickchartButtonEl.classList.add('colab-df-spinner');\n",
              "      try {\n",
              "        const charts = await google.colab.kernel.invokeFunction(\n",
              "            'suggestCharts', [key], {});\n",
              "      } catch (error) {\n",
              "        console.error('Error during call to suggestCharts:', error);\n",
              "      }\n",
              "      quickchartButtonEl.classList.remove('colab-df-spinner');\n",
              "      quickchartButtonEl.classList.add('colab-df-quickchart-complete');\n",
              "    }\n",
              "    (() => {\n",
              "      let quickchartButtonEl =\n",
              "        document.querySelector('#df-3f47644a-b1c8-47c1-83c4-817978fb8939 button');\n",
              "      quickchartButtonEl.style.display =\n",
              "        google.colab.kernel.accessAllowed ? 'block' : 'none';\n",
              "    })();\n",
              "  </script>\n",
              "</div>\n",
              "\n",
              "    </div>\n",
              "  </div>\n"
            ],
            "application/vnd.google.colaboratory.intrinsic+json": {
              "type": "dataframe",
              "summary": "{\n  \"name\": \"df_testes\",\n  \"rows\": 10,\n  \"fields\": [\n    {\n      \"column\": \"Accuracy_KNN\",\n      \"properties\": {\n        \"dtype\": \"number\",\n        \"std\": 0.023629610451404496,\n        \"min\": 0.774390243902439,\n        \"max\": 0.8464285714285714,\n        \"num_unique_values\": 9,\n        \"samples\": [\n          0.8075880758807588,\n          0.8214285714285714,\n          0.7892857142857143\n        ],\n        \"semantic_type\": \"\",\n        \"description\": \"\"\n      }\n    },\n    {\n      \"column\": \"Score_KNN\",\n      \"properties\": {\n        \"dtype\": \"number\",\n        \"std\": 0.023892208451697355,\n        \"min\": 0.7733543099973051,\n        \"max\": 0.8471362702669331,\n        \"num_unique_values\": 10,\n        \"samples\": [\n          0.7999779647137646,\n          0.822019475937127,\n          0.7897053806343424\n        ],\n        \"semantic_type\": \"\",\n        \"description\": \"\"\n      }\n    },\n    {\n      \"column\": \"Accuracy_SVM\",\n      \"properties\": {\n        \"dtype\": \"number\",\n        \"std\": 0.015486245398061748,\n        \"min\": 0.7873015873015873,\n        \"max\": 0.8445121951219512,\n        \"num_unique_values\": 9,\n        \"samples\": [\n          0.7994579945799458,\n          0.8142857142857143,\n          0.8178571428571428\n        ],\n        \"semantic_type\": \"\",\n        \"description\": \"\"\n      }\n    },\n    {\n      \"column\": \"Score_SVM\",\n      \"properties\": {\n        \"dtype\": \"number\",\n        \"std\": 0.015827434596433435,\n        \"min\": 0.7870362502398521,\n        \"max\": 0.8451412422902347,\n        \"num_unique_values\": 10,\n        \"samples\": [\n          0.8117389395358187,\n          0.8150393129138068,\n          0.818756867538304\n        ],\n        \"semantic_type\": \"\",\n        \"description\": \"\"\n      }\n    },\n    {\n      \"column\": \"Accuracy_RF\",\n      \"properties\": {\n        \"dtype\": \"number\",\n        \"std\": 0.008567834540713413,\n        \"min\": 0.8714285714285714,\n        \"max\": 0.9,\n        \"num_unique_values\": 8,\n        \"samples\": [\n          0.8857142857142857,\n          0.8726287262872628,\n          0.9\n        ],\n        \"semantic_type\": \"\",\n        \"description\": \"\"\n      }\n    },\n    {\n      \"column\": \"Score_RF\",\n      \"properties\": {\n        \"dtype\": \"number\",\n        \"std\": 0.008694379035948096,\n        \"min\": 0.8708369149019302,\n        \"max\": 0.899689796078112,\n        \"num_unique_values\": 10,\n        \"samples\": [\n          0.8723267710840205,\n          0.8860580733820171,\n          0.8815169878985203\n        ],\n        \"semantic_type\": \"\",\n        \"description\": \"\"\n      }\n    },\n    {\n      \"column\": \"Accuracy_DT\",\n      \"properties\": {\n        \"dtype\": \"number\",\n        \"std\": 0.022770163579999097,\n        \"min\": 0.7523809523809524,\n        \"max\": 0.8321428571428572,\n        \"num_unique_values\": 10,\n        \"samples\": [\n          0.7523809523809524,\n          0.8321428571428572,\n          0.7892857142857143\n        ],\n        \"semantic_type\": \"\",\n        \"description\": \"\"\n      }\n    },\n    {\n      \"column\": \"Score_DT\",\n      \"properties\": {\n        \"dtype\": \"number\",\n        \"std\": 0.022910485467282585,\n        \"min\": 0.7509432860603242,\n        \"max\": 0.832507579577305,\n        \"num_unique_values\": 10,\n        \"samples\": [\n          0.7509432860603242,\n          0.832507579577305,\n          0.7903722495752206\n        ],\n        \"semantic_type\": \"\",\n        \"description\": \"\"\n      }\n    },\n    {\n      \"column\": \"filtro\",\n      \"properties\": {\n        \"dtype\": \"category\",\n        \"num_unique_values\": 1,\n        \"samples\": [\n          \"media_movel\"\n        ],\n        \"semantic_type\": \"\",\n        \"description\": \"\"\n      }\n    },\n    {\n      \"column\": \"win_size\",\n      \"properties\": {\n        \"dtype\": \"number\",\n        \"std\": 47,\n        \"min\": 90,\n        \"max\": 230,\n        \"num_unique_values\": 5,\n        \"samples\": [\n          190\n        ],\n        \"semantic_type\": \"\",\n        \"description\": \"\"\n      }\n    },\n    {\n      \"column\": \"size_sample\",\n      \"properties\": {\n        \"dtype\": \"number\",\n        \"std\": 35,\n        \"min\": 160,\n        \"max\": 250,\n        \"num_unique_values\": 3,\n        \"samples\": [\n          250\n        ],\n        \"semantic_type\": \"\",\n        \"description\": \"\"\n      }\n    },\n    {\n      \"column\": \"overlap\",\n      \"properties\": {\n        \"dtype\": \"number\",\n        \"std\": 0.07071067811865477,\n        \"min\": 0.2,\n        \"max\": 0.4,\n        \"num_unique_values\": 3,\n        \"samples\": [\n          0.4\n        ],\n        \"semantic_type\": \"\",\n        \"description\": \"\"\n      }\n    }\n  ]\n}"
            }
          },
          "metadata": {},
          "execution_count": 52
        }
      ]
    },
    {
      "cell_type": "code",
      "source": [
        "df_testes.sort_values(by=['Accuracy_KNN'], ascending=False).head(10)"
      ],
      "metadata": {
        "colab": {
          "base_uri": "https://localhost:8080/",
          "height": 383
        },
        "id": "ruHNnj-1_rBs",
        "outputId": "b3391727-489f-4c66-881a-52919b22ca71"
      },
      "execution_count": null,
      "outputs": [
        {
          "output_type": "execute_result",
          "data": {
            "text/plain": [
              "   Accuracy_KNN  Score_KNN  Accuracy_SVM  Score_SVM  Accuracy_RF  Score_RF  \\\n",
              "0      0.846429   0.847136      0.821429   0.822838     0.900000  0.899690   \n",
              "0      0.832143   0.833276      0.828571   0.829181     0.867857  0.867402   \n",
              "0      0.821429   0.822229      0.803571   0.805433     0.871429  0.870837   \n",
              "0      0.821429   0.822019      0.814286   0.815039     0.885714  0.886058   \n",
              "0      0.816000   0.816674      0.813333   0.814219     0.853333  0.852653   \n",
              "0      0.815718   0.815973      0.788618   0.787997     0.859079  0.858196   \n",
              "0      0.814286   0.815728      0.821429   0.823075     0.853571  0.853839   \n",
              "0      0.814286   0.815728      0.821429   0.823075     0.853571  0.853839   \n",
              "0      0.814286   0.815728      0.821429   0.823075     0.853571  0.853839   \n",
              "0      0.814286   0.813164      0.776190   0.774468     0.819048  0.819224   \n",
              "\n",
              "   Accuracy_DT  Score_DT       filtro  win_size  size_sample  overlap  \n",
              "0     0.775000  0.775804  media_movel       230          250      0.4  \n",
              "0     0.807143  0.808458  media_movel       210          250      0.4  \n",
              "0     0.771429  0.772260  media_movel       130          250      0.4  \n",
              "0     0.832143  0.832508  media_movel       190          250      0.4  \n",
              "0     0.752000  0.752044  media_movel       210          160      0.3  \n",
              "0     0.734417  0.735057  media_movel       170          190      0.4  \n",
              "0     0.753571  0.752582       hampel        18          250      0.4  \n",
              "0     0.753571  0.752582       hampel        16          250      0.4  \n",
              "0     0.753571  0.752582       hampel        14          250      0.4  \n",
              "0     0.714286  0.716525  media_movel       190          250      0.2  "
            ],
            "text/html": [
              "\n",
              "  <div id=\"df-70987a72-6696-48d3-8ba2-185b80cf8b3a\" class=\"colab-df-container\">\n",
              "    <div>\n",
              "<style scoped>\n",
              "    .dataframe tbody tr th:only-of-type {\n",
              "        vertical-align: middle;\n",
              "    }\n",
              "\n",
              "    .dataframe tbody tr th {\n",
              "        vertical-align: top;\n",
              "    }\n",
              "\n",
              "    .dataframe thead th {\n",
              "        text-align: right;\n",
              "    }\n",
              "</style>\n",
              "<table border=\"1\" class=\"dataframe\">\n",
              "  <thead>\n",
              "    <tr style=\"text-align: right;\">\n",
              "      <th></th>\n",
              "      <th>Accuracy_KNN</th>\n",
              "      <th>Score_KNN</th>\n",
              "      <th>Accuracy_SVM</th>\n",
              "      <th>Score_SVM</th>\n",
              "      <th>Accuracy_RF</th>\n",
              "      <th>Score_RF</th>\n",
              "      <th>Accuracy_DT</th>\n",
              "      <th>Score_DT</th>\n",
              "      <th>filtro</th>\n",
              "      <th>win_size</th>\n",
              "      <th>size_sample</th>\n",
              "      <th>overlap</th>\n",
              "    </tr>\n",
              "  </thead>\n",
              "  <tbody>\n",
              "    <tr>\n",
              "      <th>0</th>\n",
              "      <td>0.846429</td>\n",
              "      <td>0.847136</td>\n",
              "      <td>0.821429</td>\n",
              "      <td>0.822838</td>\n",
              "      <td>0.900000</td>\n",
              "      <td>0.899690</td>\n",
              "      <td>0.775000</td>\n",
              "      <td>0.775804</td>\n",
              "      <td>media_movel</td>\n",
              "      <td>230</td>\n",
              "      <td>250</td>\n",
              "      <td>0.4</td>\n",
              "    </tr>\n",
              "    <tr>\n",
              "      <th>0</th>\n",
              "      <td>0.832143</td>\n",
              "      <td>0.833276</td>\n",
              "      <td>0.828571</td>\n",
              "      <td>0.829181</td>\n",
              "      <td>0.867857</td>\n",
              "      <td>0.867402</td>\n",
              "      <td>0.807143</td>\n",
              "      <td>0.808458</td>\n",
              "      <td>media_movel</td>\n",
              "      <td>210</td>\n",
              "      <td>250</td>\n",
              "      <td>0.4</td>\n",
              "    </tr>\n",
              "    <tr>\n",
              "      <th>0</th>\n",
              "      <td>0.821429</td>\n",
              "      <td>0.822229</td>\n",
              "      <td>0.803571</td>\n",
              "      <td>0.805433</td>\n",
              "      <td>0.871429</td>\n",
              "      <td>0.870837</td>\n",
              "      <td>0.771429</td>\n",
              "      <td>0.772260</td>\n",
              "      <td>media_movel</td>\n",
              "      <td>130</td>\n",
              "      <td>250</td>\n",
              "      <td>0.4</td>\n",
              "    </tr>\n",
              "    <tr>\n",
              "      <th>0</th>\n",
              "      <td>0.821429</td>\n",
              "      <td>0.822019</td>\n",
              "      <td>0.814286</td>\n",
              "      <td>0.815039</td>\n",
              "      <td>0.885714</td>\n",
              "      <td>0.886058</td>\n",
              "      <td>0.832143</td>\n",
              "      <td>0.832508</td>\n",
              "      <td>media_movel</td>\n",
              "      <td>190</td>\n",
              "      <td>250</td>\n",
              "      <td>0.4</td>\n",
              "    </tr>\n",
              "    <tr>\n",
              "      <th>0</th>\n",
              "      <td>0.816000</td>\n",
              "      <td>0.816674</td>\n",
              "      <td>0.813333</td>\n",
              "      <td>0.814219</td>\n",
              "      <td>0.853333</td>\n",
              "      <td>0.852653</td>\n",
              "      <td>0.752000</td>\n",
              "      <td>0.752044</td>\n",
              "      <td>media_movel</td>\n",
              "      <td>210</td>\n",
              "      <td>160</td>\n",
              "      <td>0.3</td>\n",
              "    </tr>\n",
              "    <tr>\n",
              "      <th>0</th>\n",
              "      <td>0.815718</td>\n",
              "      <td>0.815973</td>\n",
              "      <td>0.788618</td>\n",
              "      <td>0.787997</td>\n",
              "      <td>0.859079</td>\n",
              "      <td>0.858196</td>\n",
              "      <td>0.734417</td>\n",
              "      <td>0.735057</td>\n",
              "      <td>media_movel</td>\n",
              "      <td>170</td>\n",
              "      <td>190</td>\n",
              "      <td>0.4</td>\n",
              "    </tr>\n",
              "    <tr>\n",
              "      <th>0</th>\n",
              "      <td>0.814286</td>\n",
              "      <td>0.815728</td>\n",
              "      <td>0.821429</td>\n",
              "      <td>0.823075</td>\n",
              "      <td>0.853571</td>\n",
              "      <td>0.853839</td>\n",
              "      <td>0.753571</td>\n",
              "      <td>0.752582</td>\n",
              "      <td>hampel</td>\n",
              "      <td>18</td>\n",
              "      <td>250</td>\n",
              "      <td>0.4</td>\n",
              "    </tr>\n",
              "    <tr>\n",
              "      <th>0</th>\n",
              "      <td>0.814286</td>\n",
              "      <td>0.815728</td>\n",
              "      <td>0.821429</td>\n",
              "      <td>0.823075</td>\n",
              "      <td>0.853571</td>\n",
              "      <td>0.853839</td>\n",
              "      <td>0.753571</td>\n",
              "      <td>0.752582</td>\n",
              "      <td>hampel</td>\n",
              "      <td>16</td>\n",
              "      <td>250</td>\n",
              "      <td>0.4</td>\n",
              "    </tr>\n",
              "    <tr>\n",
              "      <th>0</th>\n",
              "      <td>0.814286</td>\n",
              "      <td>0.815728</td>\n",
              "      <td>0.821429</td>\n",
              "      <td>0.823075</td>\n",
              "      <td>0.853571</td>\n",
              "      <td>0.853839</td>\n",
              "      <td>0.753571</td>\n",
              "      <td>0.752582</td>\n",
              "      <td>hampel</td>\n",
              "      <td>14</td>\n",
              "      <td>250</td>\n",
              "      <td>0.4</td>\n",
              "    </tr>\n",
              "    <tr>\n",
              "      <th>0</th>\n",
              "      <td>0.814286</td>\n",
              "      <td>0.813164</td>\n",
              "      <td>0.776190</td>\n",
              "      <td>0.774468</td>\n",
              "      <td>0.819048</td>\n",
              "      <td>0.819224</td>\n",
              "      <td>0.714286</td>\n",
              "      <td>0.716525</td>\n",
              "      <td>media_movel</td>\n",
              "      <td>190</td>\n",
              "      <td>250</td>\n",
              "      <td>0.2</td>\n",
              "    </tr>\n",
              "  </tbody>\n",
              "</table>\n",
              "</div>\n",
              "    <div class=\"colab-df-buttons\">\n",
              "\n",
              "  <div class=\"colab-df-container\">\n",
              "    <button class=\"colab-df-convert\" onclick=\"convertToInteractive('df-70987a72-6696-48d3-8ba2-185b80cf8b3a')\"\n",
              "            title=\"Convert this dataframe to an interactive table.\"\n",
              "            style=\"display:none;\">\n",
              "\n",
              "  <svg xmlns=\"http://www.w3.org/2000/svg\" height=\"24px\" viewBox=\"0 -960 960 960\">\n",
              "    <path d=\"M120-120v-720h720v720H120Zm60-500h600v-160H180v160Zm220 220h160v-160H400v160Zm0 220h160v-160H400v160ZM180-400h160v-160H180v160Zm440 0h160v-160H620v160ZM180-180h160v-160H180v160Zm440 0h160v-160H620v160Z\"/>\n",
              "  </svg>\n",
              "    </button>\n",
              "\n",
              "  <style>\n",
              "    .colab-df-container {\n",
              "      display:flex;\n",
              "      gap: 12px;\n",
              "    }\n",
              "\n",
              "    .colab-df-convert {\n",
              "      background-color: #E8F0FE;\n",
              "      border: none;\n",
              "      border-radius: 50%;\n",
              "      cursor: pointer;\n",
              "      display: none;\n",
              "      fill: #1967D2;\n",
              "      height: 32px;\n",
              "      padding: 0 0 0 0;\n",
              "      width: 32px;\n",
              "    }\n",
              "\n",
              "    .colab-df-convert:hover {\n",
              "      background-color: #E2EBFA;\n",
              "      box-shadow: 0px 1px 2px rgba(60, 64, 67, 0.3), 0px 1px 3px 1px rgba(60, 64, 67, 0.15);\n",
              "      fill: #174EA6;\n",
              "    }\n",
              "\n",
              "    .colab-df-buttons div {\n",
              "      margin-bottom: 4px;\n",
              "    }\n",
              "\n",
              "    [theme=dark] .colab-df-convert {\n",
              "      background-color: #3B4455;\n",
              "      fill: #D2E3FC;\n",
              "    }\n",
              "\n",
              "    [theme=dark] .colab-df-convert:hover {\n",
              "      background-color: #434B5C;\n",
              "      box-shadow: 0px 1px 3px 1px rgba(0, 0, 0, 0.15);\n",
              "      filter: drop-shadow(0px 1px 2px rgba(0, 0, 0, 0.3));\n",
              "      fill: #FFFFFF;\n",
              "    }\n",
              "  </style>\n",
              "\n",
              "    <script>\n",
              "      const buttonEl =\n",
              "        document.querySelector('#df-70987a72-6696-48d3-8ba2-185b80cf8b3a button.colab-df-convert');\n",
              "      buttonEl.style.display =\n",
              "        google.colab.kernel.accessAllowed ? 'block' : 'none';\n",
              "\n",
              "      async function convertToInteractive(key) {\n",
              "        const element = document.querySelector('#df-70987a72-6696-48d3-8ba2-185b80cf8b3a');\n",
              "        const dataTable =\n",
              "          await google.colab.kernel.invokeFunction('convertToInteractive',\n",
              "                                                    [key], {});\n",
              "        if (!dataTable) return;\n",
              "\n",
              "        const docLinkHtml = 'Like what you see? Visit the ' +\n",
              "          '<a target=\"_blank\" href=https://colab.research.google.com/notebooks/data_table.ipynb>data table notebook</a>'\n",
              "          + ' to learn more about interactive tables.';\n",
              "        element.innerHTML = '';\n",
              "        dataTable['output_type'] = 'display_data';\n",
              "        await google.colab.output.renderOutput(dataTable, element);\n",
              "        const docLink = document.createElement('div');\n",
              "        docLink.innerHTML = docLinkHtml;\n",
              "        element.appendChild(docLink);\n",
              "      }\n",
              "    </script>\n",
              "  </div>\n",
              "\n",
              "\n",
              "<div id=\"df-0cd43edf-e730-4844-895c-8b703ed2d2db\">\n",
              "  <button class=\"colab-df-quickchart\" onclick=\"quickchart('df-0cd43edf-e730-4844-895c-8b703ed2d2db')\"\n",
              "            title=\"Suggest charts\"\n",
              "            style=\"display:none;\">\n",
              "\n",
              "<svg xmlns=\"http://www.w3.org/2000/svg\" height=\"24px\"viewBox=\"0 0 24 24\"\n",
              "     width=\"24px\">\n",
              "    <g>\n",
              "        <path d=\"M19 3H5c-1.1 0-2 .9-2 2v14c0 1.1.9 2 2 2h14c1.1 0 2-.9 2-2V5c0-1.1-.9-2-2-2zM9 17H7v-7h2v7zm4 0h-2V7h2v10zm4 0h-2v-4h2v4z\"/>\n",
              "    </g>\n",
              "</svg>\n",
              "  </button>\n",
              "\n",
              "<style>\n",
              "  .colab-df-quickchart {\n",
              "      --bg-color: #E8F0FE;\n",
              "      --fill-color: #1967D2;\n",
              "      --hover-bg-color: #E2EBFA;\n",
              "      --hover-fill-color: #174EA6;\n",
              "      --disabled-fill-color: #AAA;\n",
              "      --disabled-bg-color: #DDD;\n",
              "  }\n",
              "\n",
              "  [theme=dark] .colab-df-quickchart {\n",
              "      --bg-color: #3B4455;\n",
              "      --fill-color: #D2E3FC;\n",
              "      --hover-bg-color: #434B5C;\n",
              "      --hover-fill-color: #FFFFFF;\n",
              "      --disabled-bg-color: #3B4455;\n",
              "      --disabled-fill-color: #666;\n",
              "  }\n",
              "\n",
              "  .colab-df-quickchart {\n",
              "    background-color: var(--bg-color);\n",
              "    border: none;\n",
              "    border-radius: 50%;\n",
              "    cursor: pointer;\n",
              "    display: none;\n",
              "    fill: var(--fill-color);\n",
              "    height: 32px;\n",
              "    padding: 0;\n",
              "    width: 32px;\n",
              "  }\n",
              "\n",
              "  .colab-df-quickchart:hover {\n",
              "    background-color: var(--hover-bg-color);\n",
              "    box-shadow: 0 1px 2px rgba(60, 64, 67, 0.3), 0 1px 3px 1px rgba(60, 64, 67, 0.15);\n",
              "    fill: var(--button-hover-fill-color);\n",
              "  }\n",
              "\n",
              "  .colab-df-quickchart-complete:disabled,\n",
              "  .colab-df-quickchart-complete:disabled:hover {\n",
              "    background-color: var(--disabled-bg-color);\n",
              "    fill: var(--disabled-fill-color);\n",
              "    box-shadow: none;\n",
              "  }\n",
              "\n",
              "  .colab-df-spinner {\n",
              "    border: 2px solid var(--fill-color);\n",
              "    border-color: transparent;\n",
              "    border-bottom-color: var(--fill-color);\n",
              "    animation:\n",
              "      spin 1s steps(1) infinite;\n",
              "  }\n",
              "\n",
              "  @keyframes spin {\n",
              "    0% {\n",
              "      border-color: transparent;\n",
              "      border-bottom-color: var(--fill-color);\n",
              "      border-left-color: var(--fill-color);\n",
              "    }\n",
              "    20% {\n",
              "      border-color: transparent;\n",
              "      border-left-color: var(--fill-color);\n",
              "      border-top-color: var(--fill-color);\n",
              "    }\n",
              "    30% {\n",
              "      border-color: transparent;\n",
              "      border-left-color: var(--fill-color);\n",
              "      border-top-color: var(--fill-color);\n",
              "      border-right-color: var(--fill-color);\n",
              "    }\n",
              "    40% {\n",
              "      border-color: transparent;\n",
              "      border-right-color: var(--fill-color);\n",
              "      border-top-color: var(--fill-color);\n",
              "    }\n",
              "    60% {\n",
              "      border-color: transparent;\n",
              "      border-right-color: var(--fill-color);\n",
              "    }\n",
              "    80% {\n",
              "      border-color: transparent;\n",
              "      border-right-color: var(--fill-color);\n",
              "      border-bottom-color: var(--fill-color);\n",
              "    }\n",
              "    90% {\n",
              "      border-color: transparent;\n",
              "      border-bottom-color: var(--fill-color);\n",
              "    }\n",
              "  }\n",
              "</style>\n",
              "\n",
              "  <script>\n",
              "    async function quickchart(key) {\n",
              "      const quickchartButtonEl =\n",
              "        document.querySelector('#' + key + ' button');\n",
              "      quickchartButtonEl.disabled = true;  // To prevent multiple clicks.\n",
              "      quickchartButtonEl.classList.add('colab-df-spinner');\n",
              "      try {\n",
              "        const charts = await google.colab.kernel.invokeFunction(\n",
              "            'suggestCharts', [key], {});\n",
              "      } catch (error) {\n",
              "        console.error('Error during call to suggestCharts:', error);\n",
              "      }\n",
              "      quickchartButtonEl.classList.remove('colab-df-spinner');\n",
              "      quickchartButtonEl.classList.add('colab-df-quickchart-complete');\n",
              "    }\n",
              "    (() => {\n",
              "      let quickchartButtonEl =\n",
              "        document.querySelector('#df-0cd43edf-e730-4844-895c-8b703ed2d2db button');\n",
              "      quickchartButtonEl.style.display =\n",
              "        google.colab.kernel.accessAllowed ? 'block' : 'none';\n",
              "    })();\n",
              "  </script>\n",
              "</div>\n",
              "\n",
              "    </div>\n",
              "  </div>\n"
            ],
            "application/vnd.google.colaboratory.intrinsic+json": {
              "type": "dataframe",
              "summary": "{\n  \"name\": \"df_testes\",\n  \"rows\": 10,\n  \"fields\": [\n    {\n      \"column\": \"Accuracy_KNN\",\n      \"properties\": {\n        \"dtype\": \"number\",\n        \"std\": 0.010563873791385276,\n        \"min\": 0.8142857142857143,\n        \"max\": 0.8464285714285714,\n        \"num_unique_values\": 6,\n        \"samples\": [\n          0.8464285714285714,\n          0.8321428571428572,\n          0.8142857142857143\n        ],\n        \"semantic_type\": \"\",\n        \"description\": \"\"\n      }\n    },\n    {\n      \"column\": \"Score_KNN\",\n      \"properties\": {\n        \"dtype\": \"number\",\n        \"std\": 0.010641892016002578,\n        \"min\": 0.8131640192148573,\n        \"max\": 0.8471362702669331,\n        \"num_unique_values\": 8,\n        \"samples\": [\n          0.8332759609868045,\n          0.8159732008446976,\n          0.8471362702669331\n        ],\n        \"semantic_type\": \"\",\n        \"description\": \"\"\n      }\n    },\n    {\n      \"column\": \"Accuracy_SVM\",\n      \"properties\": {\n        \"dtype\": \"number\",\n        \"std\": 0.016759254214384435,\n        \"min\": 0.7761904761904762,\n        \"max\": 0.8285714285714286,\n        \"num_unique_values\": 7,\n        \"samples\": [\n          0.8214285714285714,\n          0.8285714285714286,\n          0.7886178861788617\n        ],\n        \"semantic_type\": \"\",\n        \"description\": \"\"\n      }\n    },\n    {\n      \"column\": \"Score_SVM\",\n      \"properties\": {\n        \"dtype\": \"number\",\n        \"std\": 0.017708714071171118,\n        \"min\": 0.7744684594856153,\n        \"max\": 0.8291807693641524,\n        \"num_unique_values\": 8,\n        \"samples\": [\n          0.8291807693641524,\n          0.7879967700250113,\n          0.8228376560248597\n        ],\n        \"semantic_type\": \"\",\n        \"description\": \"\"\n      }\n    },\n    {\n      \"column\": \"Accuracy_RF\",\n      \"properties\": {\n        \"dtype\": \"number\",\n        \"std\": 0.021782888099549536,\n        \"min\": 0.819047619047619,\n        \"max\": 0.9,\n        \"num_unique_values\": 8,\n        \"samples\": [\n          0.8678571428571429,\n          0.8590785907859079,\n          0.9\n        ],\n        \"semantic_type\": \"\",\n        \"description\": \"\"\n      }\n    },\n    {\n      \"column\": \"Score_RF\",\n      \"properties\": {\n        \"dtype\": \"number\",\n        \"std\": 0.021694941795614996,\n        \"min\": 0.8192244396340499,\n        \"max\": 0.899689796078112,\n        \"num_unique_values\": 8,\n        \"samples\": [\n          0.8674019607843138,\n          0.8581956210004991,\n          0.899689796078112\n        ],\n        \"semantic_type\": \"\",\n        \"description\": \"\"\n      }\n    },\n    {\n      \"column\": \"Accuracy_DT\",\n      \"properties\": {\n        \"dtype\": \"number\",\n        \"std\": 0.03414472758548259,\n        \"min\": 0.7142857142857143,\n        \"max\": 0.8321428571428572,\n        \"num_unique_values\": 8,\n        \"samples\": [\n          0.8071428571428572,\n          0.7344173441734417,\n          0.775\n        ],\n        \"semantic_type\": \"\",\n        \"description\": \"\"\n      }\n    },\n    {\n      \"column\": \"Score_DT\",\n      \"properties\": {\n        \"dtype\": \"number\",\n        \"std\": 0.034143701303631216,\n        \"min\": 0.7165254048465727,\n        \"max\": 0.832507579577305,\n        \"num_unique_values\": 8,\n        \"samples\": [\n          0.8084575403194987,\n          0.7350565325054522,\n          0.7758035704850254\n        ],\n        \"semantic_type\": \"\",\n        \"description\": \"\"\n      }\n    },\n    {\n      \"column\": \"filtro\",\n      \"properties\": {\n        \"dtype\": \"category\",\n        \"num_unique_values\": 2,\n        \"samples\": [\n          \"hampel\",\n          \"media_movel\"\n        ],\n        \"semantic_type\": \"\",\n        \"description\": \"\"\n      }\n    },\n    {\n      \"column\": \"win_size\",\n      \"properties\": {\n        \"dtype\": \"number\",\n        \"std\": 88,\n        \"min\": 14,\n        \"max\": 230,\n        \"num_unique_values\": 8,\n        \"samples\": [\n          210,\n          18\n        ],\n        \"semantic_type\": \"\",\n        \"description\": \"\"\n      }\n    },\n    {\n      \"column\": \"size_sample\",\n      \"properties\": {\n        \"dtype\": \"number\",\n        \"std\": 32,\n        \"min\": 160,\n        \"max\": 250,\n        \"num_unique_values\": 3,\n        \"samples\": [\n          250,\n          160\n        ],\n        \"semantic_type\": \"\",\n        \"description\": \"\"\n      }\n    },\n    {\n      \"column\": \"overlap\",\n      \"properties\": {\n        \"dtype\": \"number\",\n        \"std\": 0.0674948557710553,\n        \"min\": 0.2,\n        \"max\": 0.4,\n        \"num_unique_values\": 3,\n        \"samples\": [\n          0.4,\n          0.3\n        ],\n        \"semantic_type\": \"\",\n        \"description\": \"\"\n      }\n    }\n  ]\n}"
            }
          },
          "metadata": {},
          "execution_count": 75
        }
      ]
    },
    {
      "cell_type": "code",
      "source": [],
      "metadata": {
        "id": "t2xUtns1zPlZ"
      },
      "execution_count": null,
      "outputs": []
    },
    {
      "cell_type": "code",
      "source": [
        "# melhor resultado pro RF\n",
        "X_train, X_test, y_train, y_test, labels = data_train_test('2', filtro='media_movel', win_size=230, overlap=0.4, n_sigma=3, size_sample=250)\n",
        "MLI_RF = MLInmetro(X_train, X_test, y_train, y_test, labels)\n",
        "y_ped_RF = MLI_RF.RandomForest()[-1]\n",
        "\n",
        "MLI_RF.ConfusionMatrix(y_ped_RF, 'Random Forest')"
      ],
      "metadata": {
        "colab": {
          "base_uri": "https://localhost:8080/",
          "height": 472
        },
        "id": "afx91kGFCPzz",
        "outputId": "d0ccfd88-85d7-4877-f630-9dd2f5db7cc7"
      },
      "execution_count": null,
      "outputs": [
        {
          "output_type": "display_data",
          "data": {
            "text/plain": [
              "<Figure size 640x480 with 2 Axes>"
            ],
            "image/png": "[encoded data removed]"
          },
          "metadata": {}
        }
      ]
    },
    {
      "cell_type": "code",
      "source": [
        "# melhor resultado pro DT\n",
        "X_train, X_test, y_train, y_test, labels = data_train_test('1', filtro='hampel', win_size=16, overlap=0.4, n_sigma=3, size_sample=190)\n",
        "MLI_DT = MLInmetro(X_train, X_test, y_train, y_test, labels)\n",
        "y_ped_DT = MLI_DT.DecisionTree()[-1]\n",
        "\n",
        "MLI_DT.ConfusionMatrix(y_ped_DT, 'Decision Tree')"
      ],
      "metadata": {
        "colab": {
          "base_uri": "https://localhost:8080/",
          "height": 472
        },
        "id": "4REInhRuFUSn",
        "outputId": "c035e62b-1061-4ad2-9f46-76b725325b00"
      },
      "execution_count": null,
      "outputs": [
        {
          "output_type": "display_data",
          "data": {
            "text/plain": [
              "<Figure size 640x480 with 2 Axes>"
            ],
            "image/png": "[encoded data removed]"
          },
          "metadata": {}
        }
      ]
    },
    {
      "cell_type": "code",
      "source": [
        "# melhor resultado pro SVM\n",
        "X_train, X_test, y_train, y_test, labels = data_train_test('1', filtro='media_movel', win_size=110, overlap=0.3, n_sigma=3, size_sample=250)\n",
        "MLI_SVM = MLInmetro(X_train, X_test, y_train, y_test, labels)\n",
        "y_ped_SVM = MLI_SVM.SVM()[-1]\n",
        "\n",
        "MLI_SVM.ConfusionMatrix(y_ped_SVM, 'SVM')"
      ],
      "metadata": {
        "colab": {
          "base_uri": "https://localhost:8080/",
          "height": 472
        },
        "id": "5E8xK7FREHn2",
        "outputId": "4ecc328f-120a-42f9-91cd-e3162257f516"
      },
      "execution_count": null,
      "outputs": [
        {
          "output_type": "display_data",
          "data": {
            "text/plain": [
              "<Figure size 640x480 with 2 Axes>"
            ],
            "image/png": "[encoded data removed]"
          },
          "metadata": {}
        }
      ]
    },
    {
      "cell_type": "code",
      "source": [
        "# melhor resultado pro KNN\n",
        "X_train, X_test, y_train, y_test, labels = data_train_test('1', filtro='media_movel', win_size=230, overlap=0.4, n_sigma=3, size_sample=250)\n",
        "MLI_KNN = MLInmetro(X_train, X_test, y_train, y_test, labels)\n",
        "y_ped_KNN= MLI_KNN.KNN()[-1]\n",
        "\n",
        "MLI_KNN.ConfusionMatrix(y_ped_KNN, 'KNN')"
      ],
      "metadata": {
        "colab": {
          "base_uri": "https://localhost:8080/",
          "height": 472
        },
        "id": "MRlwMqsiGUUp",
        "outputId": "6ba561a8-8219-4ccc-e8c1-2c8e98ef5c4f"
      },
      "execution_count": null,
      "outputs": [
        {
          "output_type": "display_data",
          "data": {
            "text/plain": [
              "<Figure size 640x480 with 2 Axes>"
            ],
            "image/png": "[encoded data removed]"
          },
          "metadata": {}
        }
      ]
    },
    {
      "cell_type": "code",
      "source": [
        "MLI_SVM.SVM()"
      ],
      "metadata": {
        "colab": {
          "base_uri": "https://localhost:8080/"
        },
        "id": "HRMd-H2o9pXn",
        "outputId": "0db574d4-ada7-4d88-ea55-114321ce20f8"
      },
      "execution_count": null,
      "outputs": [
        {
          "output_type": "execute_result",
          "data": {
            "text/plain": [
              "(0.7638888888888888,\n",
              " 0.7622017545993861,\n",
              " array([2, 0, 1, 2, 2, 0, 2, 0, 2, 2, 1, 0, 1, 0, 1, 0, 1, 1, 0, 2, 1, 0,\n",
              "        0, 2, 0, 0, 2, 1, 2, 0, 1, 0, 2, 1, 0, 0, 1, 0, 1, 1, 1, 2, 2, 0,\n",
              "        2, 2, 1, 1, 0, 2, 2, 2, 2, 0, 2, 2, 0, 1, 0, 0, 2, 2, 1, 1, 0, 1,\n",
              "        1, 1, 1, 2, 2, 0], dtype=int8))"
            ]
          },
          "metadata": {},
          "execution_count": 72
        }
      ]
    },
    {
      "cell_type": "code",
      "source": [
        "pip install qrcode[pil]"
      ],
      "metadata": {
        "colab": {
          "base_uri": "https://localhost:8080/"
        },
        "id": "YHXjixr8zRhB",
        "outputId": "0750b57c-f548-4737-dec7-181a58df7d44"
      },
      "execution_count": null,
      "outputs": [
        {
          "output_type": "stream",
          "name": "stdout",
          "text": [
            "Collecting qrcode[pil]\n",
            "  Downloading qrcode-7.4.2-py3-none-any.whl.metadata (17 kB)\n",
            "Requirement already satisfied: typing-extensions in /usr/local/lib/python3.10/dist-packages (from qrcode[pil]) (4.12.2)\n",
            "Collecting pypng (from qrcode[pil])\n",
            "  Downloading pypng-0.20220715.0-py3-none-any.whl.metadata (13 kB)\n",
            "Requirement already satisfied: pillow>=9.1.0 in /usr/local/lib/python3.10/dist-packages (from qrcode[pil]) (9.4.0)\n",
            "Downloading pypng-0.20220715.0-py3-none-any.whl (58 kB)\n",
            "\u001b[2K   \u001b[90m━━━━━━━━━━━━━━━━━━━━━━━━━━━━━━━━━━━━━━━━\u001b[0m \u001b[32m58.1/58.1 kB\u001b[0m \u001b[31m4.0 MB/s\u001b[0m eta \u001b[36m0:00:00\u001b[0m\n",
            "\u001b[?25hDownloading qrcode-7.4.2-py3-none-any.whl (46 kB)\n",
            "\u001b[2K   \u001b[90m━━━━━━━━━━━━━━━━━━━━━━━━━━━━━━━━━━━━━━━━\u001b[0m \u001b[32m46.2/46.2 kB\u001b[0m \u001b[31m3.2 MB/s\u001b[0m eta \u001b[36m0:00:00\u001b[0m\n",
            "\u001b[?25hInstalling collected packages: pypng, qrcode\n",
            "Successfully installed pypng-0.20220715.0 qrcode-7.4.2\n"
          ]
        }
      ]
    },
    {
      "cell_type": "code",
      "source": [
        "import qrcode\n",
        "\n",
        "# URL do repositório GitHub\n",
        "url = \"https://github.com/josewilsonsouza/Machine_Learing_INMETRO\"\n",
        "\n",
        "# Gerar QR code\n",
        "qr = qrcode.QRCode(\n",
        "    version=1,\n",
        "    error_correction=qrcode.constants.ERROR_CORRECT_L,\n",
        "    box_size=10,\n",
        "    border=4,\n",
        ")\n",
        "qr.add_data(url)\n",
        "qr.make(fit=True)\n",
        "\n",
        "# Criar imagem do QR code\n",
        "img = qr.make_image(fill='black', back_color='white')\n",
        "\n",
        "# Salvar imagem\n",
        "img.save(\"qrcode.pdf\", format='pdf', bbox_inches='tight', pad_inches=0)"
      ],
      "metadata": {
        "id": "Zzmj4k3Yze5A"
      },
      "execution_count": null,
      "outputs": []
    }
  ],
  "metadata": {
    "colab": {
      "provenance": []
    },
    "kernelspec": {
      "display_name": "Python 3 (ipykernel)",
      "language": "python",
      "name": "python3"
    },
    "language_info": {
      "codemirror_mode": {
        "name": "ipython",
        "version": 3
      },
      "file_extension": ".py",
      "mimetype": "text/x-python",
      "name": "python",
      "nbconvert_exporter": "python",
      "pygments_lexer": "ipython3",
      "version": "3.10.12"
    }
  },
  "nbformat": 4,
  "nbformat_minor": 0
}